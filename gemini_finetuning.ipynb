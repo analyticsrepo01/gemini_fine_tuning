{
 "cells": [
  {
   "cell_type": "code",
   "execution_count": 18,
   "id": "744020d3-ff08-4a3a-9c6d-2a22d4625c67",
   "metadata": {
    "tags": []
   },
   "outputs": [],
   "source": [
    "# **Copyright (c) 2024 Saurabh Mangal. All rights reserved.**\n",
    "\n",
    "# This repository and its contents are private and are the exclusive Unauthorized copying, distribution, or use of this repository or any portion thereof is strictly prohibited without the express written permission . \n",
    "\n",
    "# **Author:** Saurabh Mangal"
   ]
  },
  {
   "cell_type": "code",
   "execution_count": 2,
   "id": "d4ee3d9b-966c-4d52-b20a-67b9e63e597e",
   "metadata": {
    "tags": []
   },
   "outputs": [
    {
     "name": "stdout",
     "output_type": "stream",
     "text": [
      "Updated property [core/project].\n",
      "Creating gs://my-project-0004-346516-pytorch112kagglewbi-us-central1/...\n",
      "\u001b[1;31mERROR:\u001b[0m (gcloud.storage.buckets.create) HTTPError 409: Your previous request to create the named bucket succeeded and you already own it.\n"
     ]
    }
   ],
   "source": [
    "import socket\n",
    "import re\n",
    "\n",
    "PROJECT_ID = !(gcloud config get-value core/project)\n",
    "PROJECT_ID = PROJECT_ID[0]\n",
    "\n",
    "SVC_ACC = !(gcloud config get-value core/account)\n",
    "SVC_ACC = SVC_ACC[0]\n",
    "\n",
    "PROJECT_NUMBER=str(re.search(r'\\d+', SVC_ACC).group())\n",
    "\n",
    "LOCATION=\"us-central1\"\n",
    "\n",
    "UNIQUE_PREFIX = socket.gethostname()\n",
    "UNIQUE_PREFIX = re.sub('[^A-Za-z0-9]+', '', UNIQUE_PREFIX)\n",
    "\n",
    "BUCKET_NAME = f\"{PROJECT_ID}-{UNIQUE_PREFIX}-{LOCATION}\"\n",
    "\n",
    "BUCKET_URI = f\"gs://{BUCKET_NAME}\"  # @param {type:\"string\"}\n",
    "\n",
    "! gcloud config set project $PROJECT_ID\n",
    "! gcloud storage buckets create {BUCKET_URI} --project={PROJECT_ID} --location={LOCATION}\n",
    "! mkdir output\n",
    "\n",
    "import vertexai\n",
    "\n",
    "vertexai.init(project=PROJECT_ID, location=LOCATION, staging_bucket=BUCKET_URI)"
   ]
  },
  {
   "cell_type": "code",
   "execution_count": null,
   "id": "cdbe82f3-7908-4764-8a3f-077a40ca7219",
   "metadata": {},
   "outputs": [
    {
     "name": "stdout",
     "output_type": "stream",
     "text": [
      "Creating SupervisedTuningJob\n",
      "SupervisedTuningJob created. Resource name: projects/255766800726/locations/us-central1/tuningJobs/3395930069992996864\n",
      "To use this SupervisedTuningJob in another session:\n",
      "tuning_job = sft.SupervisedTuningJob('projects/255766800726/locations/us-central1/tuningJobs/3395930069992996864')\n",
      "View Tuning Job:\n",
      "https://console.cloud.google.com/vertex-ai/generative/language/locations/us-central1/tuning/tuningJob/3395930069992996864?project=255766800726\n"
     ]
    },
    {
     "data": {
      "text/html": [
       "\n",
       "        \n",
       "    <link rel=\"stylesheet\" href=\"https://fonts.googleapis.com/icon?family=Material+Icons\">\n",
       "    <style>\n",
       "      .view-vertex-resource,\n",
       "      .view-vertex-resource:hover,\n",
       "      .view-vertex-resource:visited {\n",
       "        position: relative;\n",
       "        display: inline-flex;\n",
       "        flex-direction: row;\n",
       "        height: 32px;\n",
       "        padding: 0 12px;\n",
       "          margin: 4px 18px;\n",
       "        gap: 4px;\n",
       "        border-radius: 4px;\n",
       "\n",
       "        align-items: center;\n",
       "        justify-content: center;\n",
       "        background-color: rgb(255, 255, 255);\n",
       "        color: rgb(51, 103, 214);\n",
       "\n",
       "        font-family: Roboto,\"Helvetica Neue\",sans-serif;\n",
       "        font-size: 13px;\n",
       "        font-weight: 500;\n",
       "        text-transform: uppercase;\n",
       "        text-decoration: none !important;\n",
       "\n",
       "        transition: box-shadow 280ms cubic-bezier(0.4, 0, 0.2, 1) 0s;\n",
       "        box-shadow: 0px 3px 1px -2px rgba(0,0,0,0.2), 0px 2px 2px 0px rgba(0,0,0,0.14), 0px 1px 5px 0px rgba(0,0,0,0.12);\n",
       "      }\n",
       "      .view-vertex-resource:active {\n",
       "        box-shadow: 0px 5px 5px -3px rgba(0,0,0,0.2),0px 8px 10px 1px rgba(0,0,0,0.14),0px 3px 14px 2px rgba(0,0,0,0.12);\n",
       "      }\n",
       "      .view-vertex-resource:active .view-vertex-ripple::before {\n",
       "        position: absolute;\n",
       "        top: 0;\n",
       "        bottom: 0;\n",
       "        left: 0;\n",
       "        right: 0;\n",
       "        border-radius: 4px;\n",
       "        pointer-events: none;\n",
       "\n",
       "        content: '';\n",
       "        background-color: rgb(51, 103, 214);\n",
       "        opacity: 0.12;\n",
       "      }\n",
       "      .view-vertex-icon {\n",
       "        font-size: 18px;\n",
       "      }\n",
       "    </style>\n",
       "  \n",
       "        <a class=\"view-vertex-resource\" id=\"view-vertex-resource-5fedab4b-eeee-4b62-9245-5c736e904d30\" href=\"#view-view-vertex-resource-5fedab4b-eeee-4b62-9245-5c736e904d30\">\n",
       "          <span class=\"material-icons view-vertex-icon\">tune</span>\n",
       "          <span>View Tuning Job</span>\n",
       "        </a>\n",
       "        \n",
       "        <script>\n",
       "          (function () {\n",
       "            const link = document.getElementById('view-vertex-resource-5fedab4b-eeee-4b62-9245-5c736e904d30');\n",
       "            link.addEventListener('click', (e) => {\n",
       "              if (window.google?.colab?.openUrl) {\n",
       "                window.google.colab.openUrl('https://console.cloud.google.com/vertex-ai/generative/language/locations/us-central1/tuning/tuningJob/3395930069992996864?project=255766800726');\n",
       "              } else {\n",
       "                window.open('https://console.cloud.google.com/vertex-ai/generative/language/locations/us-central1/tuning/tuningJob/3395930069992996864?project=255766800726', '_blank');\n",
       "              }\n",
       "              e.stopPropagation();\n",
       "              e.preventDefault();\n",
       "            });\n",
       "          })();\n",
       "        </script>\n",
       "    "
      ],
      "text/plain": [
       "<IPython.core.display.HTML object>"
      ]
     },
     "metadata": {},
     "output_type": "display_data"
    },
    {
     "name": "stdout",
     "output_type": "stream",
     "text": [
      "projects/255766800726/locations/us-central1/models/6441300854837346304@1\n",
      "projects/255766800726/locations/us-central1/endpoints/8342740188820144128\n",
      "<google.cloud.aiplatform.metadata.experiment_resources.Experiment object at 0x7f319972bdc0>\n"
     ]
    }
   ],
   "source": [
    "\n",
    "import time\n",
    "\n",
    "import vertexai\n",
    "from vertexai.preview.tuning import sft\n",
    "\n",
    "# TODO(developer): Update project\n",
    "vertexai.init(project=PROJECT_ID, location=\"us-central1\")\n",
    "\n",
    "sft_tuning_job = sft.train(\n",
    "    source_model=\"gemini-1.0-pro-002\",\n",
    "    train_dataset=\"gs://cloud-samples-data/ai-platform/generative_ai/sft_train_data.jsonl\",\n",
    "    # The following parameters are optional\n",
    "    validation_dataset=\"gs://cloud-samples-data/ai-platform/generative_ai/sft_validation_data.jsonl\",\n",
    "    epochs=4,\n",
    "    adapter_size=4,\n",
    "    learning_rate_multiplier=1.0,\n",
    "    tuned_model_display_name=\"tuned_gemini_pro\",\n",
    ")\n",
    "\n",
    "# Polling for job completion\n",
    "while not sft_tuning_job.has_ended:\n",
    "    time.sleep(60)\n",
    "    sft_tuning_job.refresh()\n",
    "\n",
    "print(sft_tuning_job.tuned_model_name)\n",
    "print(sft_tuning_job.tuned_model_endpoint_name)\n",
    "print(sft_tuning_job.experiment)"
   ]
  },
  {
   "cell_type": "code",
   "execution_count": null,
   "id": "f257d5bb-64ad-4af5-8e62-27f1a3c2dcd0",
   "metadata": {},
   "outputs": [
    {
     "name": "stdout",
     "output_type": "stream",
     "text": [
      "<vertexai.tuning._supervised_tuning.SupervisedTuningJob object at 0x7f3199adbd60> \n",
      "resource name: projects/255766800726/locations/us-central1/tuningJobs/3395930069992996864\n",
      "<vertexai.tuning._supervised_tuning.SupervisedTuningJob object at 0x7f3199ad9d80> \n",
      "resource name: projects/255766800726/locations/us-central1/tuningJobs/7319084177482055680\n",
      "<vertexai.tuning._supervised_tuning.SupervisedTuningJob object at 0x7f3199ada8f0> \n",
      "resource name: projects/255766800726/locations/us-central1/tuningJobs/7028039051563237376\n",
      "<vertexai.tuning._supervised_tuning.SupervisedTuningJob object at 0x7f3199adbbb0> \n",
      "resource name: projects/255766800726/locations/us-central1/tuningJobs/4587228791016783872\n",
      "<vertexai.tuning._supervised_tuning.SupervisedTuningJob object at 0x7f3199ad8130> \n",
      "resource name: projects/255766800726/locations/us-central1/tuningJobs/1746864801029554176\n",
      "<vertexai.tuning._supervised_tuning.SupervisedTuningJob object at 0x7f3199ada920> \n",
      "resource name: projects/255766800726/locations/us-central1/tuningJobs/2051983675783905280\n"
     ]
    }
   ],
   "source": [
    "import vertexai\n",
    "from vertexai.preview.tuning import sft\n",
    "\n",
    "# TODO(developer): Update project\n",
    "vertexai.init(project=PROJECT_ID, location=\"us-central1\")\n",
    "\n",
    "responses = sft.SupervisedTuningJob.list()\n",
    "\n",
    "for response in responses:\n",
    "    print(response)"
   ]
  },
  {
   "cell_type": "code",
   "execution_count": 9,
   "id": "130fb2b4-3bce-489c-80eb-ae4acd7072d4",
   "metadata": {
    "tags": []
   },
   "outputs": [
    {
     "data": {
      "text/html": [
       "\n",
       "        \n",
       "    <link rel=\"stylesheet\" href=\"https://fonts.googleapis.com/icon?family=Material+Icons\">\n",
       "    <style>\n",
       "      .view-vertex-resource,\n",
       "      .view-vertex-resource:hover,\n",
       "      .view-vertex-resource:visited {\n",
       "        position: relative;\n",
       "        display: inline-flex;\n",
       "        flex-direction: row;\n",
       "        height: 32px;\n",
       "        padding: 0 12px;\n",
       "          margin: 4px 18px;\n",
       "        gap: 4px;\n",
       "        border-radius: 4px;\n",
       "\n",
       "        align-items: center;\n",
       "        justify-content: center;\n",
       "        background-color: rgb(255, 255, 255);\n",
       "        color: rgb(51, 103, 214);\n",
       "\n",
       "        font-family: Roboto,\"Helvetica Neue\",sans-serif;\n",
       "        font-size: 13px;\n",
       "        font-weight: 500;\n",
       "        text-transform: uppercase;\n",
       "        text-decoration: none !important;\n",
       "\n",
       "        transition: box-shadow 280ms cubic-bezier(0.4, 0, 0.2, 1) 0s;\n",
       "        box-shadow: 0px 3px 1px -2px rgba(0,0,0,0.2), 0px 2px 2px 0px rgba(0,0,0,0.14), 0px 1px 5px 0px rgba(0,0,0,0.12);\n",
       "      }\n",
       "      .view-vertex-resource:active {\n",
       "        box-shadow: 0px 5px 5px -3px rgba(0,0,0,0.2),0px 8px 10px 1px rgba(0,0,0,0.14),0px 3px 14px 2px rgba(0,0,0,0.12);\n",
       "      }\n",
       "      .view-vertex-resource:active .view-vertex-ripple::before {\n",
       "        position: absolute;\n",
       "        top: 0;\n",
       "        bottom: 0;\n",
       "        left: 0;\n",
       "        right: 0;\n",
       "        border-radius: 4px;\n",
       "        pointer-events: none;\n",
       "\n",
       "        content: '';\n",
       "        background-color: rgb(51, 103, 214);\n",
       "        opacity: 0.12;\n",
       "      }\n",
       "      .view-vertex-icon {\n",
       "        font-size: 18px;\n",
       "      }\n",
       "    </style>\n",
       "  \n",
       "        <a class=\"view-vertex-resource\" id=\"view-vertex-resource-30a625cd-c5c4-4c6a-8fa0-aa5300d0c166\" href=\"#view-view-vertex-resource-30a625cd-c5c4-4c6a-8fa0-aa5300d0c166\">\n",
       "          <span class=\"material-icons view-vertex-icon\">tune</span>\n",
       "          <span>View Tuning Job</span>\n",
       "        </a>\n",
       "        \n",
       "        <script>\n",
       "          (function () {\n",
       "            const link = document.getElementById('view-vertex-resource-30a625cd-c5c4-4c6a-8fa0-aa5300d0c166');\n",
       "            link.addEventListener('click', (e) => {\n",
       "              if (window.google?.colab?.openUrl) {\n",
       "                window.google.colab.openUrl('https://console.cloud.google.com/vertex-ai/generative/language/locations/us-central1/tuning/tuningJob/2051983675783905280?project=255766800726');\n",
       "              } else {\n",
       "                window.open('https://console.cloud.google.com/vertex-ai/generative/language/locations/us-central1/tuning/tuningJob/2051983675783905280?project=255766800726', '_blank');\n",
       "              }\n",
       "              e.stopPropagation();\n",
       "              e.preventDefault();\n",
       "            });\n",
       "          })();\n",
       "        </script>\n",
       "    "
      ],
      "text/plain": [
       "<IPython.core.display.HTML object>"
      ]
     },
     "metadata": {},
     "output_type": "display_data"
    },
    {
     "name": "stdout",
     "output_type": "stream",
     "text": [
      "<vertexai.tuning._supervised_tuning.SupervisedTuningJob object at 0x7f3199ae4220> \n",
      "resource name: projects/255766800726/locations/us-central1/tuningJobs/2051983675783905280\n"
     ]
    }
   ],
   "source": [
    "import vertexai\n",
    "from vertexai.preview.tuning import sft\n",
    "\n",
    "# TODO(developer): Update project, location\n",
    "vertexai.init(project=PROJECT_ID, location=LOCATION)\n",
    "\n",
    "tuning_job_id = \"2051983675783905280\"\n",
    "response = sft.SupervisedTuningJob(\n",
    "    f\"projects/{PROJECT_ID}/locations/{LOCATION}/tuningJobs/{tuning_job_id}\"\n",
    ")\n",
    "\n",
    "print(response)"
   ]
  },
  {
   "cell_type": "markdown",
   "id": "2e001aae-b2ab-4365-9467-ad0cd9498c69",
   "metadata": {},
   "source": [
    "### Test the tuned model with a prompt"
   ]
  },
  {
   "cell_type": "markdown",
   "id": "94fd6b31-6264-40e0-8988-c8d23dfcb318",
   "metadata": {
    "tags": []
   },
   "source": [
    "#### to get the name of end point, you can open the model in Gemini UI console and select your tuned model and then look at the code."
   ]
  },
  {
   "cell_type": "code",
   "execution_count": 14,
   "id": "11f86fe1-6f6c-452b-83d0-742f71fa6536",
   "metadata": {
    "tags": []
   },
   "outputs": [
    {
     "name": "stdout",
     "output_type": "stream",
     "text": [
      "candidates {\n",
      "  content {\n",
      "    role: \"model\"\n",
      "    parts {\n",
      "      text: \"I tested. I am testing this.\"\n",
      "    }\n",
      "  }\n",
      "  finish_reason: STOP\n",
      "  safety_ratings {\n",
      "    category: HARM_CATEGORY_HATE_SPEECH\n",
      "    probability: NEGLIGIBLE\n",
      "    probability_score: 0.04493164271116257\n",
      "    severity: HARM_SEVERITY_NEGLIGIBLE\n",
      "    severity_score: 0.059756580740213394\n",
      "  }\n",
      "  safety_ratings {\n",
      "    category: HARM_CATEGORY_DANGEROUS_CONTENT\n",
      "    probability: NEGLIGIBLE\n",
      "    probability_score: 0.07779744267463684\n",
      "    severity: HARM_SEVERITY_NEGLIGIBLE\n",
      "    severity_score: 0.04986590892076492\n",
      "  }\n",
      "  safety_ratings {\n",
      "    category: HARM_CATEGORY_HARASSMENT\n",
      "    probability: NEGLIGIBLE\n",
      "    probability_score: 0.0427221953868866\n",
      "    severity: HARM_SEVERITY_NEGLIGIBLE\n",
      "    severity_score: 0.03919513151049614\n",
      "  }\n",
      "  safety_ratings {\n",
      "    category: HARM_CATEGORY_SEXUALLY_EXPLICIT\n",
      "    probability: NEGLIGIBLE\n",
      "    probability_score: 0.05252167582511902\n",
      "    severity: HARM_SEVERITY_NEGLIGIBLE\n",
      "    severity_score: 0.05252167582511902\n",
      "  }\n",
      "}\n",
      "usage_metadata {\n",
      "  prompt_token_count: 1\n",
      "  candidates_token_count: 8\n",
      "  total_token_count: 9\n",
      "}\n",
      "\n"
     ]
    }
   ],
   "source": [
    "import base64\n",
    "import vertexai\n",
    "from vertexai.generative_models import GenerativeModel, Part\n",
    "import vertexai.preview.generative_models as generative_models\n",
    "\n",
    "\n",
    "def multiturn_generate_content():\n",
    "  vertexai.init(project=\"255766800726\", location=\"us-central1\")\n",
    "  model = GenerativeModel(\n",
    "    \"projects/255766800726/locations/us-central1/endpoints/8342740188820144128\",\n",
    "  )\n",
    "  chat = model.start_chat()\n",
    "  print(chat.send_message(\n",
    "      [\"\"\"test\"\"\"],\n",
    "      generation_config=generation_config,\n",
    "      safety_settings=safety_settings\n",
    "  ))\n",
    "\n",
    "\n",
    "generation_config = {\n",
    "    \"max_output_tokens\": 1024,\n",
    "    \"temperature\": 1,\n",
    "    \"top_p\": 1,\n",
    "}\n",
    "\n",
    "safety_settings = {\n",
    "    generative_models.HarmCategory.HARM_CATEGORY_HATE_SPEECH: generative_models.HarmBlockThreshold.BLOCK_MEDIUM_AND_ABOVE,\n",
    "    generative_models.HarmCategory.HARM_CATEGORY_DANGEROUS_CONTENT: generative_models.HarmBlockThreshold.BLOCK_MEDIUM_AND_ABOVE,\n",
    "    generative_models.HarmCategory.HARM_CATEGORY_SEXUALLY_EXPLICIT: generative_models.HarmBlockThreshold.BLOCK_MEDIUM_AND_ABOVE,\n",
    "    generative_models.HarmCategory.HARM_CATEGORY_HARASSMENT: generative_models.HarmBlockThreshold.BLOCK_MEDIUM_AND_ABOVE,\n",
    "}\n",
    "\n",
    "multiturn_generate_content()\n",
    "\n"
   ]
  },
  {
   "cell_type": "code",
   "execution_count": 15,
   "id": "8e893259-85ff-46fd-a8c2-108595869b70",
   "metadata": {},
   "outputs": [],
   "source": [
    "# from vertexai.preview.generative_models import GenerativeModel\n",
    "# from vertexai.preview import tuning\n",
    "# from vertexai.preview.tuning import sft\n",
    "\n",
    "# TUNING_JOB_ID = \"8342740188820144128\"\n",
    "# TUNING_JOB_REGION = LOCATION \n",
    "\n",
    "# sft_tuning_job = sft.SupervisedTuningJob(f\"projects/{PROJECT_ID}/locations/{TUNING_JOB_REGION}/tuningJobs/{TUNING_JOB_ID}\")\n",
    "\n",
    "# content = \"test\"\n",
    "\n",
    "# print(\"sft_tuning_job.tuned_model_endpoint_name\",sft_tuning_job.tuned_model_endpoint_name)\n",
    "# tuned_model = GenerativeModel(sft_tuning_job.tuned_model_endpoint_name)\n",
    "# print(tuned_model.generate_content(content))"
   ]
  },
  {
   "cell_type": "code",
   "execution_count": null,
   "id": "44de4e3c-4688-4889-9613-5a610715e6e3",
   "metadata": {},
   "outputs": [],
   "source": []
  }
 ],
 "metadata": {
  "environment": {
   "kernel": "conda-root-py",
   "name": "workbench-notebooks.m113",
   "type": "gcloud",
   "uri": "gcr.io/deeplearning-platform-release/workbench-notebooks:m113"
  },
  "kernelspec": {
   "display_name": "Python 3 (ipykernel) (Local)",
   "language": "python",
   "name": "conda-root-py"
  },
  "language_info": {
   "codemirror_mode": {
    "name": "ipython",
    "version": 3
   },
   "file_extension": ".py",
   "mimetype": "text/x-python",
   "name": "python",
   "nbconvert_exporter": "python",
   "pygments_lexer": "ipython3",
   "version": "3.10.13"
  }
 },
 "nbformat": 4,
 "nbformat_minor": 5
}
